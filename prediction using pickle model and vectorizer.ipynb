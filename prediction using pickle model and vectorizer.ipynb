{
 "cells": [
  {
   "cell_type": "code",
   "execution_count": 23,
   "id": "83d5f3f7",
   "metadata": {},
   "outputs": [
    {
     "name": "stdout",
     "output_type": "stream",
     "text": [
      "Enter the text to predict: neymar scored a goal\n",
      "Prediction: ['SPORTS']\n"
     ]
    }
   ],
   "source": [
    "import pickle\n",
    "\n",
    "# Load the model from the pickle file\n",
    "with open('logisticmodel.pkl', 'rb') as file:\n",
    "    loaded_model = pickle.load(file)\n",
    "    \n",
    "# Load the vectorizer from the pickle file\n",
    "with open('logisticvectorizer.pkl', 'rb') as file:\n",
    "    loaded_vectorizer = pickle.load(file)\n",
    "\n",
    "input_text = input(\"Enter the text to predict: \")\n",
    "\n",
    "# Transform the input text into numerical features\n",
    "input_text_tfidf = loaded_vectorizer.transform([input_text])\n",
    "\n",
    "# Make prediction\n",
    "prediction = loaded_model.predict(input_text_tfidf)\n",
    "\n",
    "print(\"Prediction:\", prediction)\n"
   ]
  },
  {
   "cell_type": "code",
   "execution_count": null,
   "id": "c60c25fb",
   "metadata": {},
   "outputs": [],
   "source": []
  }
 ],
 "metadata": {
  "kernelspec": {
   "display_name": "Python 3 (ipykernel)",
   "language": "python",
   "name": "python3"
  },
  "language_info": {
   "codemirror_mode": {
    "name": "ipython",
    "version": 3
   },
   "file_extension": ".py",
   "mimetype": "text/x-python",
   "name": "python",
   "nbconvert_exporter": "python",
   "pygments_lexer": "ipython3",
   "version": "3.9.5"
  }
 },
 "nbformat": 4,
 "nbformat_minor": 5
}
